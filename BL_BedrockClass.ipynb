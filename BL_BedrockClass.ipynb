{
 "cells": [
  {
   "cell_type": "markdown",
   "metadata": {},
   "source": [
    "# Bedrock Classification in the Larder Lake Area (North Eastern Ontario)"
   ]
  },
  {
   "cell_type": "markdown",
   "metadata": {},
   "source": [
    "This exercise was inspired by two sources:\n",
    "- Medium posts from Jack Maughan (https://medium.com/@jackmaughan_50251)\n",
    "- Two Peer-reviewed journal articles:\n",
    "    - Hood et al. 2019 (https://doi.org/10.1016/j.acags.2019.100001)\n",
    "    - Cracknell & Reading 2014 (https://doi.org/10.1016/j.cageo.2013.10.008)\n",
    "\n",
    "The workflow was altered from Maughan's Mineral Prediction Mapping work that he has shared online (https://github.com/tunanottechnical/Jupyter-Workings/blob/master/Mineral%20Prediction%20Map%20with%20Machine%20Learning.ipynb)."
   ]
  },
  {
   "cell_type": "markdown",
   "metadata": {},
   "source": [
    "## Viewing and Preparing Data in QGIS"
   ]
  },
  {
   "cell_type": "markdown",
   "metadata": {},
   "source": [
    "QGIS is utilized in this process because it is open source software.  For more information, visit the [QGIS Website](https://www.qgis.org/en/site/index.html)\n",
    ">NOTE: Version 3.20.3 is used in this exercise"
   ]
  },
  {
   "cell_type": "markdown",
   "metadata": {},
   "source": [
    "### Adding imagery basemaps to provide spatial context"
   ]
  },
  {
   "cell_type": "markdown",
   "metadata": {},
   "source": [
    "[Including satellite imagery](https://planet.qgis.org/planet/tag/world%20imagery/) as a basemap layer in QGIS can be accomplished by copying the following code into the python terminal:\n",
    "`qgis.utils.iface.addRasterLayer(\"http://server.arcgisonline.com/arcgis/rest/services/ESRI_Imagery_World_2D/MapServer?f=json&pretty=true\",\"raster\")`"
   ]
  },
  {
   "cell_type": "markdown",
   "metadata": {},
   "source": [
    "### Area of Interest (AOI) in Northeastern Ontario"
   ]
  },
  {
   "cell_type": "markdown",
   "metadata": {},
   "source": [
    "Before looking at the area of interest in detail, we can get a sense of the spatial context with satellite imagery and several other illustrative datasets (i.e., cities, current and past producing mines, AOI around Larder Lake).\n",
    "> Note: The white rectangle is the AOI for this exercise.  I did not include provincial borders, Rouyn-Noranda is in Quebec."
   ]
  },
  {
   "cell_type": "markdown",
   "metadata": {},
   "source": [
    "![AOI_Northeastern_Ontario](Images/AOI_BL.png)"
   ]
  },
  {
   "cell_type": "markdown",
   "metadata": {},
   "source": [
    "A closer look at the AOI shows a heavily wooded area, with three historic mines in the area.  Directly west of the AOI is Kirkland Lake, where there is one currently operating mine (yellow circle)."
   ]
  },
  {
   "cell_type": "markdown",
   "metadata": {},
   "source": [
    "![AOI_Larder_Lake](Images/AOI_BL_zoom.png)"
   ]
  },
  {
   "cell_type": "markdown",
   "metadata": {},
   "source": [
    "### Datasets Used by Hood et al. 2019"
   ]
  },
  {
   "cell_type": "markdown",
   "metadata": {},
   "source": [
    "Hood et al. (2019) utilized a number of datasets in the classification of bedrock, including:\n",
    "- Historic Geological Maps\n",
    "- Digital Terrain Model (DTM)\n",
    "- Magnetic Geophysics (ASVI, RTP, RTP 1VD, RTP 2VD)\n",
    "- Radiometric Geophysics (ThConc, UConc, KConc, Dose)\n",
    "- Hyperspectral Remote Sensing [ASTER] (AlOH, Ferric Oxide content, Ferrous iron index, FeOH content, MgOH content, Kaolin)\n",
    "\n",
    "I was only able to find three equivalent datasets for this exercise, including:\n",
    "- Historic Geological Maps\n",
    "- Digital Elevation Model (DEM)\n",
    "- Magnetic Geophysics (RTP, RTP 1VD, RTP 2VD)\n",
    "\n",
    "This will be a large limitation in the model output.  The radiometric data would be very helpful in identifying felsic vs. mafic outcrops, but I could not find a suitable dataset over this AOI.  The hyperspectral remote sensing imagery would also add very useful parameters in the bedrock classification, but I could not figure out how to download the data."
   ]
  },
  {
   "cell_type": "markdown",
   "metadata": {},
   "source": [
    "### Visualizing All Datasets"
   ]
  },
  {
   "cell_type": "markdown",
   "metadata": {},
   "source": [
    "Importing all datasets into QGIS provides a quick assessment of the spatial extent this exercise must be limited to.  The three geophysical datasets (Magnetic RTP, 1VD, and 2VD), along with the geological map and the DEM illustrate that the DEM will roughly determine the AOI of this exercise.\n",
    "\n",
    "The geological maps used in this exercise are digitized versions produced by the Ontario Geological Survey in the 1940's by J.A. Thomson (ARM50A, ARM50B, and ARM50C).  These maps display both outcrop geological maps, and the overall inferred geology of the study areas.  Although these maps are old, they are held in high regard for the level of detail provided."
   ]
  },
  {
   "cell_type": "markdown",
   "metadata": {},
   "source": [
    "![QGIS_AllData](Images/BL_ML_Data.png)"
   ]
  },
  {
   "cell_type": "markdown",
   "metadata": {},
   "source": [
    "### Define an AOI"
   ]
  },
  {
   "cell_type": "markdown",
   "metadata": {},
   "source": [
    "After reviewing all datasets, an AOI must be defined, to which all data will be clipped.  This will provide a consistent raster shape across all datasets.\n",
    "\n",
    "Care must be taken to ensure the AOI is perfectly square, otherwise the clipping process for the rasters will produce streaks of \"no value\" in the datasets (e.g., see image below where the clipped version of Mag RTP is overlaying the unclipped version, and there are black lines as a result of a poorly defined AOI)."
   ]
  },
  {
   "cell_type": "markdown",
   "metadata": {},
   "source": [
    "![Clipping with poor AOI](Images/AOI_Issues.png)"
   ]
  },
  {
   "cell_type": "markdown",
   "metadata": {},
   "source": [
    "Creating perfect AOIs can be accomplished by defining the vertices in a wkt (well known text) format within a csv.  An AOI in this example would contain this exact text in a cell of a csv file:\n",
    ">`POLYGON((607950 5337950, 607950 5328300, 588000 5328300, 588000 5337950, 607950 5337950))`\n",
    "\n",
    "The Data Source Manager can then be used to add the text delimited file with your AOI."
   ]
  },
  {
   "cell_type": "markdown",
   "metadata": {},
   "source": [
    "### Rasterize Vector Files"
   ]
  },
  {
   "cell_type": "markdown",
   "metadata": {},
   "source": [
    "In this exersize, the only vector file used is the geological map.  The machine learning process requires that all files are represented by rasters with matching size and resolution.  The limiting factor at this stage is the geophysical data, which has a resolution of 11.2 x 11.2 metre pixels.  In comparison, the DEM data has a resolution of 2 x 2 metre pixels.  Ideally we would want to use only high resolution datasets (e.g., 2x2 metre pixels), but we will convert everything into 10 x 10 metre pixels for this exercise.\n",
    "\n",
    "The rasterize geoprocessing tool in QGIS is found under the Raster tab, in the conversion section.  I have added a new numerical column in the geology vector file that assigns a number value to each geological unit.  The rasterize tool will use this column as the input for each 10 x 10 pixel (referred to as the \"value to burn\").  The output should look like this:"
   ]
  },
  {
   "cell_type": "markdown",
   "metadata": {},
   "source": [
    "![Rasterized Outcrops](Images/BL_ML_RasterizedOutcrops.png)"
   ]
  },
  {
   "cell_type": "markdown",
   "metadata": {},
   "source": [
    "### Standardize Raster Resolution"
   ]
  },
  {
   "cell_type": "markdown",
   "metadata": {},
   "source": [
    "As previously mentioned, all rasters must be the same resolution and size, commonly referred to as shape.  The shape of the rasterized geology is 1995 x 965.  The DEM (9975 x 4825) and geophysics (1778 x 860) datasets both must be resized.  The warp geoprocessing tool found under the Raster/Projections tab will be utilized for this task.  The projections wont actually be altered using this tool, rather we will change the pixel size using the nearest neighbor algorithm to provide a consistent dataset for the machine learning process (see picture below)."
   ]
  },
  {
   "cell_type": "markdown",
   "metadata": {},
   "source": [
    "![BL_warp](Images/BL_ML_Warp.png)"
   ]
  },
  {
   "cell_type": "markdown",
   "metadata": {},
   "source": [
    "# Using Python"
   ]
  },
  {
   "cell_type": "markdown",
   "metadata": {},
   "source": [
    "### Python (3.7) Required Packages\n",
    "\n",
    "- Numpy\n",
    "- Sklearn (abbr. for scikit-learn)\n",
    "- Skimage (abbr. for scikit-image)\n",
    "- Matplotlib\n",
    "- Pandas\n",
    "- Rasterio"
   ]
  },
  {
   "cell_type": "markdown",
   "metadata": {},
   "source": [
    "This exercise was completed with python, version displayed below"
   ]
  },
  {
   "cell_type": "code",
   "execution_count": 1,
   "metadata": {},
   "outputs": [
    {
     "name": "stdout",
     "output_type": "stream",
     "text": [
      "Python 3.7.10\n"
     ]
    }
   ],
   "source": [
    "!python --version"
   ]
  },
  {
   "cell_type": "markdown",
   "metadata": {},
   "source": [
    "### Anaconda\n",
    "\n",
    "Using Anaconda is recommended for a couple of reasons, namely:\n",
    "\n",
    "- easy package downloading\n",
    "- download packages not written in python\n",
    "- ability to create multiple environments to accommodate odd dependency senarios\n",
    "\n",
    "> Note: downloading the raterio package was problematic - make sure you connect to the \"conda-forge\" channel.  Could not resolve issues with python 3.8, created a new environment in anaconda with python 3.7 to get around this problem."
   ]
  },
  {
   "cell_type": "markdown",
   "metadata": {},
   "source": [
    "### Image processing"
   ]
  },
  {
   "cell_type": "code",
   "execution_count": 2,
   "metadata": {},
   "outputs": [],
   "source": [
    "#Importing the python packages\n",
    "\n",
    "import pandas as pd\n",
    "import numpy as np\n",
    "from skimage import io   #called scikit-image in anaconda"
   ]
  },
  {
   "cell_type": "code",
   "execution_count": 4,
   "metadata": {},
   "outputs": [
    {
     "name": "stdout",
     "output_type": "stream",
     "text": [
      "<class 'numpy.ndarray'>\n",
      "<class 'numpy.ndarray'>\n",
      "<class 'numpy.ndarray'>\n",
      "<class 'numpy.ndarray'>\n",
      "<class 'numpy.ndarray'>\n"
     ]
    }
   ],
   "source": [
    "#Load the images prepared in QGIS\n",
    "mag_RTP = io.imread('/Users/dmeek/Desktop/BL_Python_Classification/Model_Inputs/Clipped_MAG_RTP_BL_10p.tif')\n",
    "mag_1VD = io.imread('/Users/dmeek/Desktop/BL_Python_Classification/Model_Inputs/Clipped_MAG_RTP_1VD_BL_10p.tif')\n",
    "mag_2VD = io.imread('/Users/dmeek/Desktop/BL_Python_Classification/Model_Inputs/Clipped_MAG_RTP_2VD_BL_10p.tif')\n",
    "geo = io.imread('/Users/dmeek/Desktop/BL_Python_Classification/Model_Inputs/Rasterized_ARM50_All_Outcrops_10p.tif')\n",
    "dem = io.imread('/Users/dmeek/Desktop/BL_Python_Classification/Model_Inputs/Clipped_Merged_BL_COOP2016_DEM_10p.tif')\n",
    "\n",
    "#Checking the image datatypes \n",
    "print(type(mag_RTP))\n",
    "print(type(mag_1VD))\n",
    "print(type(mag_2VD))\n",
    "print(type(geo))\n",
    "print(type(dem))"
   ]
  },
  {
   "cell_type": "markdown",
   "metadata": {},
   "source": [
    "We have loaded all 5 images as numpy arrays using the python package 'scikit-image' (referred to as skimage here; I think this is just a convention thing from the examples I have seen). Numpy array is the input data format which is required by the machine learning python package 'scikit-learn' so this is a good start. However, when importing images as numpy arrays it is important to make sure that they have the same dimensions (or shape). We attempted to address this in QGIS using the Raster warp tool, but to double check we use the following code:"
   ]
  },
  {
   "cell_type": "code",
   "execution_count": 5,
   "metadata": {},
   "outputs": [
    {
     "name": "stdout",
     "output_type": "stream",
     "text": [
      "Magnetic RTP shape is (965, 1994, 3)\n",
      "Magnetic 1VD shape is (965, 1994, 3)\n",
      "Magnetic 2VD shape is (965, 1994, 3)\n",
      "Geology shape is (965, 1995)\n",
      "DEM shape is (965, 1995)\n"
     ]
    }
   ],
   "source": [
    "#Analysing the shape of each numpy array,\n",
    "print('Magnetic RTP shape is',mag_RTP.shape)\n",
    "print('Magnetic 1VD shape is',mag_1VD.shape)\n",
    "print('Magnetic 2VD shape is',mag_2VD.shape)\n",
    "print('Geology shape is',geo.shape)\n",
    "print('DEM shape is',dem.shape)"
   ]
  },
  {
   "cell_type": "markdown",
   "metadata": {},
   "source": [
    "This has uncovered two issues with our datasets.  The first is that the magnetics datasets are three dimensional arrays.  The second issue is that the shape of the magnetics datasets are slightly different, displaying a 965x1994 matrix as opposed to a 965x1995 matrix as is the case with geology and DEM data.\n",
    "\n",
    "The three dimensional nature of the magnetics datasets is expected, because these were RGB images.  This means that there are 3 965x1994 matrices in the numpy arrays, one for each color (i.e., Red, Green, Blue). Looking at the raw data provides a better sense of this:"
   ]
  },
  {
   "cell_type": "code",
   "execution_count": 6,
   "metadata": {},
   "outputs": [
    {
     "name": "stdout",
     "output_type": "stream",
     "text": [
      "[[[127  84   0]\n",
      "  [127  63   0]\n",
      "  [127  63   0]\n",
      "  ...\n",
      "  [219 219   0]\n",
      "  [219 219   0]\n",
      "  [215 215   0]]\n",
      "\n",
      " [[ 90 127   0]\n",
      "  [127 105   0]\n",
      "  [127  84   0]\n",
      "  ...\n",
      "  [219 219   0]\n",
      "  [219 219   0]\n",
      "  [219 219   0]]\n",
      "\n",
      " [[  0 127   0]\n",
      "  [ 17 127   0]\n",
      "  [ 54 127   0]\n",
      "  ...\n",
      "  [223 223   0]\n",
      "  [223 223   0]\n",
      "  [223 201   0]]]\n"
     ]
    }
   ],
   "source": [
    "print(mag_RTP[0:3])"
   ]
  },
  {
   "cell_type": "markdown",
   "metadata": {},
   "source": [
    "The first pixel of the image is [127,84,0], while the last pixel of the data printed is [223,201,0].  To convert these images into a two dimenional array we need to reimport them into this notebook as greyscale images.  Scikit-Image contains an optional boolean paramter 'as_gray' that will convert color images into 64-bit grey-scale float values (a value between 0 - 1)."
   ]
  },
  {
   "cell_type": "code",
   "execution_count": 7,
   "metadata": {},
   "outputs": [
    {
     "name": "stdout",
     "output_type": "stream",
     "text": [
      "The new mag_RTP shape is (965, 1994)\n",
      "The new mag_1VD shape is (965, 1994)\n",
      "The new mag_2VD shape is (965, 1994)\n"
     ]
    }
   ],
   "source": [
    "#Reimporting the images using the as_gray parameter to generate two dimensional numpy arrays\n",
    "mag_RTP = io.imread('/Users/dmeek/Desktop/BL_Python_Classification/Model_Inputs/Clipped_MAG_RTP_BL_10p.tif', as_gray = True)\n",
    "mag_1VD = io.imread('/Users/dmeek/Desktop/BL_Python_Classification/Model_Inputs/Clipped_MAG_RTP_1VD_BL_10p.tif', as_gray = True)\n",
    "mag_2VD = io.imread('/Users/dmeek/Desktop/BL_Python_Classification/Model_Inputs/Clipped_MAG_RTP_2VD_BL_10p.tif', as_gray = True)\n",
    "\n",
    "#Analysing the new array shapes\n",
    "print('The new mag_RTP shape is',mag_RTP.shape)\n",
    "print('The new mag_1VD shape is',mag_1VD.shape)\n",
    "print('The new mag_2VD shape is',mag_2VD.shape)"
   ]
  },
  {
   "cell_type": "code",
   "execution_count": 8,
   "metadata": {},
   "outputs": [
    {
     "name": "stdout",
     "output_type": "stream",
     "text": [
      "[[0.3415 0.2826 0.2826 ... 0.7969 0.7969 0.7823]\n",
      " [0.4313 0.4004 0.3415 ... 0.7969 0.7969 0.7969]\n",
      " [0.3563 0.3705 0.4013 ... 0.8115 0.8115 0.7497]\n",
      " ...\n",
      " [0.1192 0.1192 0.1192 ... 0.4822 0.4822 0.4822]\n",
      " [0.1192 0.1192 0.1192 ... 0.4822 0.4822 0.4822]\n",
      " [0.1192 0.1192 0.1192 ... 0.4822 0.4822 0.4822]]\n"
     ]
    }
   ],
   "source": [
    "print(mag_RTP.round(4))"
   ]
  },
  {
   "cell_type": "markdown",
   "metadata": {},
   "source": [
    "Now the first pixel of the image is 0.3415 (rather than [127,84,0]).\n",
    "\n",
    "With the first issue addressed, the slightly different shapes must be fixed.  Considering that the same AOI was used to generate each clipped image, why these three datasets are missing a column of pixels is unclear (perhaps this was related to the warp process).  As a quick fix, we will trim the last column from the geo and dem arrays to produce arrays of the same size (965x1994). To do this, we will use the row and column indexes to specify that we want all data except for the last column."
   ]
  },
  {
   "cell_type": "code",
   "execution_count": 9,
   "metadata": {},
   "outputs": [
    {
     "name": "stdout",
     "output_type": "stream",
     "text": [
      "The new geo shape is (965, 1994)\n",
      "The new dem shape is (965, 1994)\n"
     ]
    }
   ],
   "source": [
    "#Reshape the geo and dem data\n",
    "geo = geo[:,:-1]\n",
    "dem = dem[:,:-1]\n",
    "\n",
    "#Analyze the new array shapes\n",
    "print('The new geo shape is',geo.shape)\n",
    "print('The new dem shape is',dem.shape)"
   ]
  },
  {
   "cell_type": "markdown",
   "metadata": {},
   "source": [
    "### Formatting Data"
   ]
  },
  {
   "cell_type": "markdown",
   "metadata": {},
   "source": [
    "All arrays are now the same shape, 965x1994.  However, scikit-learn requires one dimensional numpy arrays.  To address this next issue, the numpy 'flatten' module will be used.  In essence, this takes each row of the matrix and places it after the preceeding row."
   ]
  },
  {
   "cell_type": "code",
   "execution_count": 10,
   "metadata": {},
   "outputs": [],
   "source": [
    "#For more details about flattening a matrix, uncomment the code below\n",
    "#help(np.ndarray.flatten)"
   ]
  },
  {
   "cell_type": "code",
   "execution_count": 11,
   "metadata": {},
   "outputs": [
    {
     "name": "stdout",
     "output_type": "stream",
     "text": [
      "(1924210,)\n",
      "(1924210,)\n",
      "(1924210,)\n",
      "(1924210,)\n",
      "(1924210,)\n"
     ]
    }
   ],
   "source": [
    "#Flattening the arrays to become a single 1D numpy array or vector list of pixel values\n",
    "mag_RTP = mag_RTP.flatten()\n",
    "mag_1VD = mag_1VD.flatten()\n",
    "mag_2VD = mag_2VD.flatten()\n",
    "geo = geo.flatten()\n",
    "dem = dem.flatten()\n",
    "\n",
    "#Checking the shape or array length lines up for all arrays\n",
    "print(mag_RTP.shape)\n",
    "print(mag_1VD.shape)\n",
    "print(mag_2VD.shape)\n",
    "print(geo.shape)\n",
    "print(dem.shape)"
   ]
  },
  {
   "cell_type": "markdown",
   "metadata": {},
   "source": [
    "The image pixel values have now been converted into a single dimensional array of 1,924,210 values, which when lined up and transposed can be represented as a data table. With the help of python package 'Pandas', this is our next step."
   ]
  },
  {
   "cell_type": "code",
   "execution_count": 12,
   "metadata": {},
   "outputs": [
    {
     "name": "stdout",
     "output_type": "stream",
     "text": [
      "    mag_RTP   mag_1VD   mag_2VD  geo         dem\n",
      "0  0.341495  0.035909  0.184600  0.0  318.619995\n",
      "1  0.282579  0.035909  0.209849  0.0  317.970001\n",
      "2  0.282579  0.035909  0.235098  0.0  316.220001\n",
      "3  0.251719  0.035909  0.268764  0.0  317.670013\n",
      "4  0.251719  0.035909  0.313652  0.0  317.140015\n"
     ]
    }
   ],
   "source": [
    "#Creating a pandas dataframe from all the arrays. T is used to transpose the dataframe\n",
    "df = pd.DataFrame(data=[mag_RTP, mag_1VD, mag_2VD, geo, dem]).T\n",
    "\n",
    "#Assigning the column names to each feature\n",
    "df.columns=['mag_RTP', 'mag_1VD', 'mag_2VD', 'geo', 'dem']\n",
    "\n",
    "#Checking to see if it worked\n",
    "print(df.head(5))"
   ]
  },
  {
   "cell_type": "markdown",
   "metadata": {},
   "source": [
    "Here we can see the first 5 lines of the dataframe (or data table). The magnetics datasets are represented by numeric pixel values between 0-1, the geo column is represented by integer values corresponding to geological units, and the dem column is represented by numeric values corresponding to elevation in metres.  The magnetics datasets and dem should be numeric (or float) values, but we want the geo column to be categorical.  To do this we change the data type to be 'str' (string)."
   ]
  },
  {
   "cell_type": "code",
   "execution_count": 13,
   "metadata": {},
   "outputs": [
    {
     "name": "stdout",
     "output_type": "stream",
     "text": [
      "mag_RTP    float64\n",
      "mag_1VD    float64\n",
      "mag_2VD    float64\n",
      "geo         object\n",
      "dem        float64\n",
      "dtype: object\n"
     ]
    }
   ],
   "source": [
    "#Assigning the correct data types to each feature\n",
    "df.mag_RTP=df['mag_RTP'].astype(float)\n",
    "df.mag_1VD=df['mag_1VD'].astype(float)\n",
    "df.mag_2VD=df['mag_2VD'].astype(float)\n",
    "df.geo=df['geo'].astype(str)\n",
    "df.dem=df['dem'].astype(float)\n",
    "\n",
    "print(df.dtypes)"
   ]
  },
  {
   "cell_type": "markdown",
   "metadata": {},
   "source": [
    "### Building Model"
   ]
  },
  {
   "cell_type": "markdown",
   "metadata": {},
   "source": [
    "Next we want to start creating our model. For this we only want the areas where we know the geology has been classified (where geo != 0.0), so we need to drop all pixels where geo == 0.0, creating a new subset dataframe."
   ]
  },
  {
   "cell_type": "code",
   "execution_count": 14,
   "metadata": {},
   "outputs": [
    {
     "name": "stdout",
     "output_type": "stream",
     "text": [
      "             mag_RTP        mag_1VD        mag_2VD            dem\n",
      "count  413905.000000  413905.000000  413905.000000  413905.000000\n",
      "mean        0.366192       0.407190       0.437610     325.610499\n",
      "std         0.217094       0.219588       0.210777      20.787655\n",
      "min         0.035909       0.035909       0.035909     270.519989\n",
      "25%         0.189167       0.212500       0.251931     313.470001\n",
      "50%         0.317221       0.416044       0.433421     323.279999\n",
      "75%         0.549596       0.608378       0.614402     334.600006\n",
      "max         0.913345       0.927900       0.927900     431.010010\n"
     ]
    }
   ],
   "source": [
    "#Creating a subset dataframe where the geology has been classified\n",
    "df_model=df[df['geo']!=('0.0')].copy()\n",
    "\n",
    "#Checking our new data\n",
    "print(df_model.describe())"
   ]
  },
  {
   "cell_type": "code",
   "execution_count": 15,
   "metadata": {},
   "outputs": [],
   "source": [
    "#Create an index on the Geology column to investigate classification frequencies\n",
    "geo_idx=pd.Index(df_model['geo'])"
   ]
  },
  {
   "cell_type": "code",
   "execution_count": 16,
   "metadata": {},
   "outputs": [
    {
     "name": "stdout",
     "output_type": "stream",
     "text": [
      "6.0     100658\n",
      "23.0     56367\n",
      "15.0     48212\n",
      "13.0     40614\n",
      "5.0      33185\n",
      "1.0      26710\n",
      "18.0     21280\n",
      "10.0     15445\n",
      "16.0     13314\n",
      "19.0      9253\n",
      "14.0      8303\n",
      "4.0       7793\n",
      "7.0       7626\n",
      "9.0       5280\n",
      "24.0      4360\n",
      "11.0      4215\n",
      "22.0      3510\n",
      "20.0      2816\n",
      "21.0      2133\n",
      "8.0       1307\n",
      "17.0       724\n",
      "3.0        517\n",
      "2.0        154\n",
      "12.0       129\n",
      "Name: geo, dtype: int64\n"
     ]
    }
   ],
   "source": [
    "#Create a data series to use for a quick visual plot\n",
    "geo_count=geo_idx.value_counts()\n",
    "\n",
    "print(geo_count)"
   ]
  },
  {
   "cell_type": "code",
   "execution_count": 18,
   "metadata": {},
   "outputs": [
    {
     "data": {
      "image/png": "[encoded data removed]",
      "text/plain": [
       "<Figure size 864x864 with 1 Axes>"
      ]
     },
     "metadata": {
      "needs_background": "light"
     },
     "output_type": "display_data"
    }
   ],
   "source": [
    "import matplotlib.pyplot as plt\n",
    "\n",
    "geocnt_x = [\"Int-Maf Metavolc\", \"Undef. Int-Maf Metavolc\", \"Sed Undef.\", \"Sed Greywacke\", \"Gabbro\",\n",
    "             \"Alkalic Metavolc\", \"Syenite Prophyry\", \"Rhyolite Breccia\",\"Syenite\",\"Trachyte\", \"Sed Slate\",\n",
    "           \"Diorite\", \"Mafic Metavolc\", \"Rhyolite\", \"Ultramafic Metavolc\", \"Sed Arkose\", \"Undef. Felsic Metavolc\",\n",
    "           \"Trachytic Breccia\", \"Porphyritic Trachyte\", \"Quartz Porphyry\", \"Syenite and Lamprophyre\",\n",
    "           \"Diabase\", \"Chlr Schist Metavolc\", \"Sed Conglomerate\"]\n",
    "geocnt_y = [100658, 56367, 48212, 40614, 33185, 26710, 21280, 15445, 13314, 9253, 8303, 7793, 7626, 5280,\n",
    "           4360, 4215, 3510, 2816, 2133, 1307, 724, 517, 154, 129]\n",
    "\n",
    "fig, ax = plt.subplots(figsize=(12,12))\n",
    "width = 0.8 # the width of the bars \n",
    "ind = np.arange(len(geocnt_y))  # the x locations for the groups\n",
    "ax.barh(ind, geocnt_y, width, color=\"blue\")\n",
    "ax.set_yticks(ind+width/40)\n",
    "ax.set_yticklabels(geocnt_x, minor=False)\n",
    "ax.set_xlim(1, 1000000) # expand xlim to make labels easier to read\n",
    "ax.set_xscale('log')\n",
    "plt.title('Count of Geology Categories', fontsize=18)\n",
    "plt.xlabel('Count (log)', fontsize=14)\n",
    "\n",
    "rects = ax.patches\n",
    "\n",
    "# For each bar: Place a label\n",
    "for rect in rects:\n",
    "    # Get X and Y placement of label from rect.\n",
    "    x_value = rect.get_width()\n",
    "    y_value = rect.get_y() + rect.get_height() / 2  \n",
    "    space = 5     # Number of points between bar and label\n",
    "    ha = 'left'   # Vertical alignment\n",
    "\n",
    "    # Use X value as label and format number\n",
    "    label = \"{:.0f}\".format(x_value)\n",
    "\n",
    "    # Create annotation\n",
    "    plt.annotate(label,                     # Use `label` as label\n",
    "                (x_value, y_value),         # Place label at end of the bar\n",
    "                xytext=(space, 0),          # Horizontally shift label by `space`\n",
    "                textcoords=\"offset points\", # Interpret `xytext` as offset in points\n",
    "                va='center',                # Vertically center label\n",
    "                ha=ha)                      # Horizontally align label"
   ]
  },
  {
   "cell_type": "markdown",
   "metadata": {},
   "source": [
    "With a plot of our model dataset, the discrepancy between the number of categories is strikingly clear.  Some of these classes can be cleaned up (e.g., Chlorite Schist Metavolcanics & Int. - Mafic Metavolcanics, Conglomerate & Undefined Sediments, Diabase & Gabbro, Undef Int. - Mafic Metavolcanics & Int. - Mafic Metavolcanics, etc.)\n",
    "\n",
    "There is still a large discrepancy, 2 orders of magnitude, between the new minority class (quartz porphyry; n=1307) and majority class (intermediate to mafic metavolcanics; n=157179).  Methods to properly account for these over and under representations is outlined nicely by Hood et al. (2019); in which they use multiple techniques to produce a balanced train-test dataset.  These should be investigated further after the ML process has been verified.\n",
    "\n",
    "To produce a test/train dataset, each geological category was split into seperate dataframes (and grouped when required or very similar classifications).  After this, 1000 records from each category were randomly selected.  The selection of n=1000 was based on the fact that all existing groups contain at least 1000 records, and this produced a reasonably sized model dataset."
   ]
  },
  {
   "cell_type": "code",
   "execution_count": 19,
   "metadata": {},
   "outputs": [],
   "source": [
    "#create seperate dataframes where geology categories are seperated\n",
    "df_model_geo1=df_model[df_model['geo']==('1.0')].copy() #alk metavolc\n",
    "df_model_geo2_6_23=df_model[(df_model['geo']==('2.0')) | (df_model['geo']==('6.0')) | (df_model['geo']==('23.0'))].copy() #int - maf metavolc (undef & def) & Chlor Schist metavolc\n",
    "df_model_geo3_5=df_model[(df_model['geo']==('3.0')) | (df_model['geo']==('5.0'))].copy() #diabase & gabbro\n",
    "df_model_geo4=df_model[df_model['geo']==('4.0')].copy() #diorite\n",
    "df_model_geo7=df_model[df_model['geo']==('7.0')].copy() #maf metavolc\n",
    "df_model_geo8=df_model[df_model['geo']==('8.0')].copy() #qrtz porphyry\n",
    "df_model_geo9_10=df_model[(df_model['geo']==('9.0')) | (df_model['geo']==('10.0'))].copy() #rhyolite & rhyo breccia\n",
    "df_model_geo11=df_model[df_model['geo']==('11.0')].copy()  #sed arkose\n",
    "df_model_geo12_15=df_model[(df_model['geo']==('12.0')) | (df_model['geo']==('15.0'))].copy() #conglomerate & undef sed\n",
    "df_model_geo13=df_model[df_model['geo']==('13.0')].copy()  #sed greywacke\n",
    "df_model_geo14=df_model[df_model['geo']==('14.0')].copy()  #sed slate\n",
    "df_model_geo16_17_18=df_model[(df_model['geo']==('16.0')) | (df_model['geo']==('17.0')) | (df_model['geo']==('18.0'))].copy() #syenite & syenite / lamprophyre & syenite porphyry\n",
    "df_model_geo19_20_21=df_model[(df_model['geo']==('19.0')) | (df_model['geo']==('20.0')) | (df_model['geo']==('21.0'))].copy() #trachyte & trachytic breccia & porphyritic trachyte\n",
    "df_model_geo22=df_model[df_model['geo']==('22.0')].copy()  #undef felsic metavolc\n",
    "df_model_geo24=df_model[df_model['geo']==('24.0')].copy()  #ultramafic metavolc\n",
    "\n",
    "#standardize geo values where categories have been grouped\n",
    "df_model_geo2_6_23['geo'].replace({\"2.0\":\"23.0\", \"6.0\":\"23.0\"}, inplace=True)\n",
    "df_model_geo3_5['geo'].replace({\"3.0\":\"5.0\"}, inplace=True)\n",
    "df_model_geo9_10['geo'].replace({\"9.0\":\"10.0\"}, inplace=True)\n",
    "df_model_geo12_15['geo'].replace({\"12.0\":\"15.0\"}, inplace=True)\n",
    "df_model_geo16_17_18['geo'].replace({\"17.0\":\"16.0\", \"18.0\":\"16.0\"}, inplace=True)\n",
    "df_model_geo19_20_21['geo'].replace({\"20.0\":\"19.0\", \"21.0\":\"19.0\"}, inplace=True)\n",
    "\n",
    "#extract random samples of 500 records; use random_state 10 to provide level of reproducibility\n",
    "df_model_geo1_rnd=df_model_geo1.sample(n=1000, random_state=10).copy()\n",
    "df_model_geo2_6_23_rnd=df_model_geo2_6_23.sample(n=1000, random_state=10).copy()\n",
    "df_model_geo3_5_rnd=df_model_geo3_5.sample(n=1000, random_state=10).copy()\n",
    "df_model_geo4_rnd=df_model_geo4.sample(n=1000, random_state=10).copy()\n",
    "df_model_geo7_rnd=df_model_geo7.sample(n=1000, random_state=10).copy()\n",
    "df_model_geo8_rnd=df_model_geo8.sample(n=1000, random_state=10).copy()\n",
    "df_model_geo9_10_rnd=df_model_geo9_10.sample(n=1000, random_state=10).copy()\n",
    "df_model_geo11_rnd=df_model_geo11.sample(n=1000, random_state=10).copy()\n",
    "df_model_geo12_15_rnd=df_model_geo12_15.sample(n=1000, random_state=10).copy()\n",
    "df_model_geo13_rnd=df_model_geo13.sample(n=1000, random_state=10).copy()\n",
    "df_model_geo14_rnd=df_model_geo14.sample(n=1000, random_state=10).copy()\n",
    "df_model_geo16_17_18_rnd=df_model_geo16_17_18.sample(n=1000, random_state=10).copy()\n",
    "df_model_geo19_20_21_rnd=df_model_geo19_20_21.sample(n=1000, random_state=10).copy()\n",
    "df_model_geo22_rnd=df_model_geo22.sample(n=1000, random_state=10).copy()\n",
    "df_model_geo24_rnd=df_model_geo24.sample(n=1000, random_state=10).copy()"
   ]
  },
  {
   "cell_type": "code",
   "execution_count": 20,
   "metadata": {},
   "outputs": [
    {
     "name": "stdout",
     "output_type": "stream",
     "text": [
      "          mag_RTP   mag_1VD   mag_2VD   geo         dem\n",
      "1336541  0.112500  0.141742  0.258600   1.0  308.950012\n",
      "1496597  0.574238  0.592746  0.557362   1.0  346.179993\n",
      "763439   0.132138  0.227857  0.159350   1.0  325.970001\n",
      "829121   0.192500  0.467202  0.757259   1.0  322.690002\n",
      "1410736  0.224096  0.370393  0.268221   1.0  320.239990\n",
      "...           ...       ...       ...   ...         ...\n",
      "1524674  0.174684  0.450210  0.643289  24.0  304.850006\n",
      "925084   0.438494  0.547071  0.647322  24.0  298.070007\n",
      "1050530  0.322830  0.228712  0.673882  24.0  324.309998\n",
      "1325554  0.517740  0.592746  0.702160  24.0  300.170013\n",
      "1018770  0.335218  0.580736  0.601181  24.0  326.369995\n",
      "\n",
      "[15000 rows x 5 columns]\n"
     ]
    }
   ],
   "source": [
    "#concatenate all randomly sampled records back into one model dataset\n",
    "frames=[df_model_geo1_rnd,\n",
    "        df_model_geo2_6_23_rnd,\n",
    "        df_model_geo3_5_rnd,\n",
    "        df_model_geo4_rnd,\n",
    "        df_model_geo7_rnd,\n",
    "        df_model_geo8_rnd,\n",
    "        df_model_geo9_10_rnd,\n",
    "        df_model_geo11_rnd,\n",
    "        df_model_geo12_15_rnd,\n",
    "        df_model_geo13_rnd,\n",
    "        df_model_geo14_rnd,\n",
    "        df_model_geo16_17_18_rnd,\n",
    "        df_model_geo19_20_21_rnd,\n",
    "        df_model_geo22_rnd,\n",
    "        df_model_geo24_rnd]\n",
    "df_model_rnd=pd.concat(frames)\n",
    "\n",
    "df_model_rnd['geo'].describe()\n",
    "print(df_model_rnd)"
   ]
  },
  {
   "cell_type": "markdown",
   "metadata": {},
   "source": [
    "### Applying PCA to Optimize ML"
   ]
  },
  {
   "cell_type": "markdown",
   "metadata": {},
   "source": [
    "Hood et al. (2019) concluded that Principal Component Analysis (PCA) assists the random forest classification when all components are retained."
   ]
  },
  {
   "cell_type": "code",
   "execution_count": 21,
   "metadata": {},
   "outputs": [],
   "source": [
    "#Import modules required for PCA of variables\n",
    "\n",
    "from sklearn.preprocessing import StandardScaler\n",
    "from sklearn.decomposition import PCA\n",
    "\n",
    "#Define the target\n",
    "y = df_model_rnd.pop('geo').values\n",
    "#Define the features of the dataset\n",
    "x = df_model_rnd\n",
    "#Standardizing the features\n",
    "x = StandardScaler().fit_transform(x)"
   ]
  },
  {
   "cell_type": "code",
   "execution_count": 22,
   "metadata": {},
   "outputs": [
    {
     "name": "stdout",
     "output_type": "stream",
     "text": [
      "[[-1.22226354 -1.30940871 -0.9153199  -0.69668077]\n",
      " [ 0.96666646  0.78215614  0.51010528  0.97049087]\n",
      " [-1.12916497 -0.91004468 -1.3888513   0.06548034]\n",
      " ...\n",
      " [-0.2251674  -0.90607819  1.0660365  -0.00885521]\n",
      " [ 0.6988282   0.78215614  1.20095404 -1.0898522 ]\n",
      " [-0.16643748  0.72645981  0.71917143  0.0833922 ]]\n"
     ]
    }
   ],
   "source": [
    "#view results\n",
    "print(x)"
   ]
  },
  {
   "cell_type": "code",
   "execution_count": null,
   "metadata": {},
   "outputs": [],
   "source": [
    "#hold off on PCA, see what results look like without\n",
    "\n",
    "#run PCA\n",
    "#pca = PCA(n_components=4)\n",
    "#principalComponents = pca.fit_transform(x)\n",
    "#principalDf = pd.DataFrame(data = principalComponents\n",
    "             #, columns = ['PC1', 'PC2','PC3','PC4'])"
   ]
  },
  {
   "cell_type": "code",
   "execution_count": null,
   "metadata": {},
   "outputs": [],
   "source": [
    "#print(principalDf)"
   ]
  },
  {
   "cell_type": "code",
   "execution_count": 23,
   "metadata": {},
   "outputs": [
    {
     "name": "stdout",
     "output_type": "stream",
     "text": [
      "<class 'numpy.ndarray'>\n",
      "<class 'numpy.ndarray'>\n"
     ]
    }
   ],
   "source": [
    "#convert our x & y variables into numpy arrays, the required format for machine learning\n",
    "\n",
    "y = np.array(y)\n",
    "#x = np.array(principalDf)\n",
    "x = np.array(x)\n",
    "\n",
    "print(type(y))\n",
    "print(type(x))"
   ]
  },
  {
   "cell_type": "markdown",
   "metadata": {},
   "source": [
    "### Prepare Data for Model\n",
    "\n",
    "For machine learning we will use the python package Scikit-Learn. To do this we must split our x and y arrays into training and testing data. Using the train_test_split module for sklearn we will use a 75/25 training/test split and then scale our data using a minmax scaler."
   ]
  },
  {
   "cell_type": "code",
   "execution_count": 24,
   "metadata": {},
   "outputs": [],
   "source": [
    "#Importing the train/test and scaling modules\n",
    "from sklearn.model_selection import train_test_split\n",
    "from sklearn.preprocessing import MinMaxScaler\n",
    "\n",
    "#Splitting the data 75/25% into training and test data and then scaling the features\n",
    "x_train, x_test, y_train, y_test = train_test_split(x, y, test_size=0.25, stratify=y)\n",
    "\n",
    "#Scaling our features\n",
    "scaler = MinMaxScaler()\n",
    "x_train = scaler.fit_transform(x_train)\n",
    "x_test = scaler.transform(x_test)"
   ]
  },
  {
   "cell_type": "markdown",
   "metadata": {},
   "source": [
    "The Random Forest algorithm has been selected for machine learning prediction (also used in Cracknell & Reading 2014; Hood et al. 2019).  Like most machine learning algorithms, random forest has many changeable parameters that can be fine tuned to increase the models accuracy.  Finding the best combination of parameters (hyperparameter tuning) manually would be time consuming, so we will take advantage of GridSearchCV.  This module in Scikit-learn filters through all possible parameters and determines what works best."
   ]
  },
  {
   "cell_type": "code",
   "execution_count": 25,
   "metadata": {},
   "outputs": [],
   "source": [
    "#Importing the random forest classifier\n",
    "from sklearn.ensemble import RandomForestClassifier"
   ]
  },
  {
   "cell_type": "code",
   "execution_count": 26,
   "metadata": {},
   "outputs": [
    {
     "name": "stdout",
     "output_type": "stream",
     "text": [
      "{'bootstrap': True, 'criterion': 'gini', 'n_estimators': 400}\n",
      "0.5224\n"
     ]
    }
   ],
   "source": [
    "#Importing the random forest classifier and grid search module\n",
    "from sklearn.model_selection import GridSearchCV\n",
    "\n",
    "#Creating our inital test classifier, use random state to ensure reproducible results with consistent decision tree generation\n",
    "RF = RandomForestClassifier(random_state=52)\n",
    "\n",
    "#Selecting our algorithm variables that will be tested on our dataset and running them through a grid search\n",
    "grid_param_RF = { 'n_estimators': [100, 200, 300, 400], 'criterion': ['gini', 'entropy'], 'bootstrap': [True, False]}\n",
    "gd_sr_RF = GridSearchCV(estimator=RF, param_grid=grid_param_RF, scoring='accuracy',cv=10, n_jobs=-1)\n",
    "gd_sr_RF.fit(x_train, y_train)\n",
    "\n",
    "#Assigning a variable to the best paramaters and the classification accuracy\n",
    "best_parameters_RF = gd_sr_RF.best_params_\n",
    "best_result_RF = gd_sr_RF.best_score_\n",
    "\n",
    "print(best_parameters_RF)\n",
    "print(best_result_RF)"
   ]
  },
  {
   "cell_type": "markdown",
   "metadata": {},
   "source": [
    "According to our grid search, our best paramteres are 'bootstrap'= True, 'criterion'= gini and 'n_estimators'= 400, which results in a 52.2% classification accuracy (...this is really bad, not sure where the issue lies). Now that we know the parameters we want to use, we can rename our model and fit it to the data."
   ]
  },
  {
   "cell_type": "code",
   "execution_count": 27,
   "metadata": {},
   "outputs": [
    {
     "name": "stdout",
     "output_type": "stream",
     "text": [
      "RandomForestClassifier(n_estimators=400)\n"
     ]
    }
   ],
   "source": [
    "#Creating a new model with the desired parameters\n",
    "model = RandomForestClassifier(bootstrap=True, criterion= 'gini', n_estimators= 400)\n",
    "\n",
    "#Fitting the model to the training data\n",
    "model.fit(x_train, y_train)\n",
    "\n",
    "#Printing all the model parameters\n",
    "print(model)"
   ]
  },
  {
   "cell_type": "markdown",
   "metadata": {},
   "source": [
    "With our new model, we can run the classification on every single pixel in our study area. \n",
    "\n",
    "We need to impose the alterations to the df_model dataset into the original df (i.e., impose the same geo classification groupings).  After this is complete we follow the same workflow in the preparation for hyperparameter tuning; remove the geo column from the initial data frame and run a scaler on our features (must use the same scaled input values that the model learned from)."
   ]
  },
  {
   "cell_type": "code",
   "execution_count": 28,
   "metadata": {},
   "outputs": [
    {
     "data": {
      "text/plain": [
       "count     1924210\n",
       "unique         16\n",
       "top           0.0\n",
       "freq      1510305\n",
       "Name: geo, dtype: object"
      ]
     },
     "execution_count": 28,
     "metadata": {},
     "output_type": "execute_result"
    }
   ],
   "source": [
    "#Generate same geo classification groups used in model generation\n",
    "df['geo'].replace({\"2.0\":\"23.0\", \"6.0\":\"23.0\", \"3.0\":\"5.0\", \"9.0\":\"10.0\", \"12.0\":\"15.0\", \"17.0\":\"16.0\",\n",
    "                   \"18.0\":\"16.0\", \"20.0\":\"19.0\", \"21.0\":\"19.0\"}, inplace=True)\n",
    "\n",
    "df['geo'].describe()"
   ]
  },
  {
   "cell_type": "code",
   "execution_count": 29,
   "metadata": {},
   "outputs": [],
   "source": [
    "#Splitting the inital dataframe \n",
    "y_new = np.array(df.pop('geo').values)\n",
    "x_new = np.array(df)\n",
    "\n",
    "#Scaling it to match the model input\n",
    "x_new = scaler.fit_transform(x_new)"
   ]
  },
  {
   "cell_type": "markdown",
   "metadata": {},
   "source": [
    "Here we can create numpy arrays of our classification values, and the probability of each class being correctly classified."
   ]
  },
  {
   "cell_type": "code",
   "execution_count": 30,
   "metadata": {},
   "outputs": [
    {
     "name": "stdout",
     "output_type": "stream",
     "text": [
      "(1924210,)\n"
     ]
    }
   ],
   "source": [
    "#Creating numpy arrays of the classification (prediction) data and the probablity that each value is properly classified\n",
    "y_pred = model.predict(x_new)\n",
    "#y_prob = model.predict_proba(x_new)\n",
    "\n",
    "print(y_pred.shape)"
   ]
  },
  {
   "cell_type": "code",
   "execution_count": null,
   "metadata": {},
   "outputs": [],
   "source": [
    "#Create confusion matrix for modelled results"
   ]
  },
  {
   "cell_type": "markdown",
   "metadata": {},
   "source": [
    "### Export Results as a Georeferenced Raster\n",
    "\n",
    "With the model outputs we can turn the files back into rasters.  The predicted values are easiest to work with, as they can easily be transformed into their original 965x1994 array.  The probabilities for each classification is a little less straight forward, we will work with these values later."
   ]
  },
  {
   "cell_type": "code",
   "execution_count": 31,
   "metadata": {},
   "outputs": [],
   "source": [
    "#Reshaping the 1D prediction array for transformation back into a raster\n",
    "y_pred = y_pred.reshape(965, 1994).astype(float)"
   ]
  },
  {
   "cell_type": "code",
   "execution_count": 32,
   "metadata": {},
   "outputs": [
    {
     "name": "stdout",
     "output_type": "stream",
     "text": [
      "[[ 4. 13. 13. ... 13. 13. 13.]\n",
      " [15. 15.  4. ... 13. 13. 13.]\n",
      " [ 4.  4.  4. ... 13. 13. 13.]\n",
      " ...\n",
      " [19. 19. 19. ...  5.  5.  5.]\n",
      " [19. 19. 19. ...  5.  5.  5.]\n",
      " [19. 19. 19. ...  5.  5.  5.]]\n"
     ]
    }
   ],
   "source": [
    "print(y_pred)"
   ]
  },
  {
   "cell_type": "markdown",
   "metadata": {},
   "source": [
    "With this 2-dimensional numpy array that we have created using machine learning, our next step is to export the images and visualize them. There are a few different techniques to converting numpy arrays to image files, but as we are working with geospatial data, it's important that we can georeference our images to the same co-ordinate reference system (CRS) as our study area. We can do this by referencing the metadata of one of our inital features through a python package called rasterio. First we use rasterio to open one of our images and have a look at the data. We will use the Geology raster as a reference."
   ]
  },
  {
   "cell_type": "code",
   "execution_count": 33,
   "metadata": {},
   "outputs": [
    {
     "name": "stdout",
     "output_type": "stream",
     "text": [
      "{'driver': 'GTiff', 'dtype': 'float32', 'nodata': 0.0, 'width': 1995, 'height': 965, 'count': 1, 'crs': CRS.from_epsg(26917), 'transform': Affine(10.0, 0.0, 588000.0,\n",
      "       0.0, -10.0, 5337950.0), 'tiled': False, 'interleave': 'band'}\n"
     ]
    }
   ],
   "source": [
    "#Importing rasterio \n",
    "import rasterio as rio\n",
    "\n",
    "#Accessing the metadata of the existing 'Geology' image\n",
    "with rio.open('/Users/dmeek/Desktop/BL_Python_Classification/Model_Inputs/Rasterized_ARM50_All_Outcrops_10p.tif') as src:\n",
    "    study_area_ras = src.read()\n",
    "    study_area_meta = src.profile\n",
    "\n",
    "print(study_area_meta)"
   ]
  },
  {
   "cell_type": "markdown",
   "metadata": {},
   "source": [
    "This metadata contains exactly what we need, specificly:"
   ]
  },
  {
   "cell_type": "code",
   "execution_count": 34,
   "metadata": {},
   "outputs": [
    {
     "name": "stdout",
     "output_type": "stream",
     "text": [
      "| 10.00, 0.00, 588000.00|\n",
      "| 0.00,-10.00, 5337950.00|\n",
      "| 0.00, 0.00, 1.00|\n",
      "EPSG:26917\n"
     ]
    }
   ],
   "source": [
    "#Viewing the transform and crs\n",
    "study_area_transform = study_area_meta[\"transform\"]\n",
    "study_area_crs = study_area_meta[\"crs\"]\n",
    "\n",
    "print(study_area_transform)\n",
    "print(study_area_crs)"
   ]
  },
  {
   "cell_type": "markdown",
   "metadata": {},
   "source": [
    "The study area transform gives us the upper left reference point of the image. This is a 10x10 unit pixel beginning at an easting of 588000 and northing of 5337950 in the co-ordinate reference system of EPSG:26917. This is the metadata we want out new images to have, but we must make a slight change first. We want the 'count' (or number of bands) of our reference to equal 1 and the 'dtype' must be the same as our input data.  In this case our reference image already has count=1 as our geology raster only has 1 band, but it's good practice to change it every time. "
   ]
  },
  {
   "cell_type": "code",
   "execution_count": 35,
   "metadata": {},
   "outputs": [
    {
     "name": "stdout",
     "output_type": "stream",
     "text": [
      "{'driver': 'GTiff', 'dtype': 'float64', 'nodata': 0.0, 'width': 1995, 'height': 965, 'count': 1, 'crs': CRS.from_epsg(26917), 'transform': Affine(10.0, 0.0, 588000.0,\n",
      "       0.0, -10.0, 5337950.0), 'tiled': False, 'interleave': 'band'}\n"
     ]
    }
   ],
   "source": [
    "#Ensuring the count value is 1 (1 band of pixel data) and assigning the data as float to be compatible with the \n",
    "#new data\n",
    "study_area_meta['count'] = 1\n",
    "study_area_meta['dtype'] = \"float64\"\n",
    "\n",
    "print(study_area_meta)"
   ]
  },
  {
   "cell_type": "markdown",
   "metadata": {},
   "source": [
    "Now we've got the metadata all ready to go, we can set it to our numpy arrays and export them to file as tif images. These can be bought back into QGIS now and placed in our study area."
   ]
  },
  {
   "cell_type": "code",
   "execution_count": 37,
   "metadata": {},
   "outputs": [],
   "source": [
    "#Saving the georeferenced tiff in a designated file location \n",
    "with rio.open('/Users/dmeek/Desktop/BL_Python_Classification/Results/ModelResults_Oct20_2021_noPCA.tif', 'w', **study_area_meta) as dst1:\n",
    "    dst1.write(y_pred, 1)"
   ]
  },
  {
   "cell_type": "markdown",
   "metadata": {},
   "source": [
    "### Conclusion\n",
    "\n",
    "This classification exercise has produced underwhelming results.\n",
    "\n",
    "Below is the mapped outcrop geology for the area"
   ]
  },
  {
   "cell_type": "markdown",
   "metadata": {},
   "source": [
    "![Mapped_Outcrops](Images/BL_Mapped_Geology.png)"
   ]
  },
  {
   "cell_type": "markdown",
   "metadata": {},
   "source": [
    "Compared to the model results"
   ]
  },
  {
   "cell_type": "markdown",
   "metadata": {},
   "source": [
    "![Machine_Learning_Results](Images/ML_Results.png)"
   ]
  },
  {
   "cell_type": "markdown",
   "metadata": {},
   "source": [
    "None of the units appears to have any reasonable classification success.  The units that showed the most success (note: still not impressive) are slate and gabbro.  Below is the comparison of mapped slate (light purple) with the modelled results for slate (grey-purple)."
   ]
  },
  {
   "cell_type": "markdown",
   "metadata": {},
   "source": [
    "![Modelled Slate](Results/Result_Mapped/Slate.png)"
   ]
  },
  {
   "cell_type": "markdown",
   "metadata": {},
   "source": [
    "Below is the comparison of mapped gabbro (pink) with the modelled results for gabbro (brown-grey).  The modelled results caught a large portion at the top centre of the frame.  Unfortunately there are large volumes of gabbro modelled in the top right of the frame where intermediate - mafic metavolcanics have been mapped.  The bottom right of the frame does not have control values to confirm or deny the presence of gabbro."
   ]
  },
  {
   "cell_type": "markdown",
   "metadata": {},
   "source": [
    "![Modelled Gabbro](Results/Result_Mapped/Gabbro.png)"
   ]
  },
  {
   "cell_type": "markdown",
   "metadata": {},
   "source": [
    "The model performed poorly on all remaining lithologies.  The intermediate - mafic metavolcanics highlight the model's inability to effectively group classifications.  Instead the map is speckled across the entire AOI with this lithology, when the results should be focused in top centre and top right portion of the AOI."
   ]
  },
  {
   "cell_type": "markdown",
   "metadata": {},
   "source": [
    "![Modelled IntMafMetavolc](Results/Result_Mapped/Int_Maf_Metavolcanics.png)"
   ]
  },
  {
   "cell_type": "markdown",
   "metadata": {},
   "source": [
    "The same issue is evident with Ultramafic Metavolcanics which is particularly disappointing because this lithology is almost always closely associated with mineralization.  If this were to function properly it could serve as target generation for ultramafic units under cover."
   ]
  },
  {
   "cell_type": "markdown",
   "metadata": {},
   "source": [
    "![Modelled UltramafMetavolc](Results/Result_Mapped/Ultramafic_Volcanics.png)"
   ]
  },
  {
   "cell_type": "markdown",
   "metadata": {},
   "source": [
    "Model improvements would likely result from the inclusion of a radiometric dataset, and figuring out how to download ASTER data.  Further, figuring out how to produce a balanced train-test dataset as described by Hood et al. (2019) could produce a better model."
   ]
  }
 ],
 "metadata": {
  "kernelspec": {
   "display_name": "Python 3",
   "language": "python",
   "name": "python3"
  },
  "language_info": {
   "codemirror_mode": {
    "name": "ipython",
    "version": 3
   },
   "file_extension": ".py",
   "mimetype": "text/x-python",
   "name": "python",
   "nbconvert_exporter": "python",
   "pygments_lexer": "ipython3",
   "version": "3.7.10"
  }
 },
 "nbformat": 4,
 "nbformat_minor": 4
}
